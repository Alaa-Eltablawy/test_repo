{
 "cells": [
  {
   "cell_type": "code",
   "execution_count": 2,
   "metadata": {},
   "outputs": [
    {
     "data": {
      "text/html": [
       "<style>\n",
       "                    a.big-jupyter-button, button.jupyter-button\n",
       "                    {\n",
       "                        line-height:40px;\n",
       "                        height:40px;\n",
       "                        display:inline-block;\n",
       "                        background-color:#0071c5;\n",
       "                        color:white;\n",
       "                        border:none;\n",
       "                        font-size:100%;\n",
       "                        font-weight:bold;\n",
       "                        cursor:pointer;\n",
       "                        padding-left:1em;\n",
       "                        padding-right:1em;\n",
       "                        margin-top:10px;\n",
       "                        text-decoration:none !important;\n",
       "                    }\n",
       "                    a.big-jupyter-button:hover\n",
       "                    {\n",
       "                        -webkit-box-shadow: 0 2px 2px 0 rgba(0, 0, 0, .14), 0 3px 1px -2px rgba(0, 0, 0, .2), 0 1px 5px 0 rgba(0, 0, 0, .12);\n",
       "                    \n",
       "                        box-shadow: 0 2px 2px 0 rgba(0, 0, 0, .14), 0 3px 1px -2px rgba(0, 0, 0, .2), 0 1px 5px 0 rgba(0, 0, 0, .12);\n",
       "                    }\n",
       "                    div.ahead > div.p-Collapse > div.p-Collapse-header\n",
       "                    {\n",
       "                        background-color:#8800aa;\n",
       "                        color:white;\n",
       "                    }\n",
       "                    div.behind > div.p-Collapse > div.p-Collapse-header\n",
       "                    {\n",
       "                        background-color:#ffaa00;\n",
       "                        color:white;\n",
       "                    }\n",
       "                    div.unable > div.p-Collapse > div.p-Collapse-header\n",
       "                    {\n",
       "                        background-color:#cc0000;\n",
       "                        color:white;\n",
       "                    }\n",
       "                    div.uptodate > div.p-Collapse > div.p-Collapse-header\n",
       "                    {\n",
       "                        background-color:#008800;\n",
       "                        color:white;\n",
       "                    }\n",
       "                    .rendered_html h2, .rendered_html h2:first-child, .rendered_html h3\n",
       "                    {\n",
       "                        margin-top:3em;\n",
       "                    }\n",
       "                    \n",
       "                    \n",
       "                    </style>"
      ],
      "text/plain": [
       "<IPython.core.display.HTML object>"
      ]
     },
     "metadata": {},
     "output_type": "display_data"
    },
    {
     "data": {
      "application/vnd.jupyter.widget-view+json": {
       "model_id": "bbd7c0f291574190a485f5fd90728dc4",
       "version_major": 2,
       "version_minor": 0
      },
      "text/plain": [
       "Accordion(children=(VBox(children=(Button(description='This Demo is uptodate', disabled=True, layout=Layout(wi…"
      ]
     },
     "metadata": {},
     "output_type": "display_data"
    }
   ],
   "source": [
    "from qarpo import DemoCatalog\n",
    "import os\n",
    "cat = DemoCatalog(os.getcwd())\n",
    "cat.ShowRepositoryControls()"
   ]
  }
 ],
 "metadata": {
  "kernelspec": {
   "display_name": "Python 3 (Ubuntu)",
   "language": "python",
   "name": "c003-python_3"
  },
  "language_info": {
   "codemirror_mode": {
    "name": "ipython",
    "version": 3
   },
   "file_extension": ".py",
   "mimetype": "text/x-python",
   "name": "python",
   "nbconvert_exporter": "python",
   "pygments_lexer": "ipython3",
   "version": "3.6.9"
  }
 },
 "nbformat": 4,
 "nbformat_minor": 2
}

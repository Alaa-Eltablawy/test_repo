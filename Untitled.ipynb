{
 "cells": [
  {
   "cell_type": "code",
   "execution_count": null,
   "metadata": {},
   "outputs": [],
   "source": [
    "cd ~\n",
    "!echo Removing the Reference-samples directory...\n",
    "!cp ~/test_repo/Untitled.ipynb ~/\n",
    "!rm -rf ~/test_repo\n",
    "!echo Cloning the samples from GitHub...\n",
    "!git clone https://github.com/Alaa-Eltablawy/test_repo.git\n",
    "!cp ~/Untitled.ipynb ~/test_repo\n",
    "from IPython.display import display, HTML\n",
    "js = \"<script>window.location.reload()</script>\"\n",
    "display(HTML(js))"
   ]
  }
 ],
 "metadata": {
  "kernelspec": {
   "display_name": "Python 3 (Ubuntu)",
   "language": "python",
   "name": "c003-python_3"
  },
  "language_info": {
   "codemirror_mode": {
    "name": "ipython",
    "version": 3
   },
   "file_extension": ".py",
   "mimetype": "text/x-python",
   "name": "python",
   "nbconvert_exporter": "python",
   "pygments_lexer": "ipython3",
   "version": "3.5.2"
  }
 },
 "nbformat": 4,
 "nbformat_minor": 2
}
